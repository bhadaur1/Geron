{
  "nbformat": 4,
  "nbformat_minor": 0,
  "metadata": {
    "colab": {
      "name": "Geron_Chap_10_2.ipynb",
      "provenance": [],
      "collapsed_sections": [],
      "authorship_tag": "ABX9TyNRDpNT7htzLBopAOSD6KAM",
      "include_colab_link": true
    },
    "kernelspec": {
      "name": "python3",
      "display_name": "Python 3"
    }
  },
  "cells": [
    {
      "cell_type": "markdown",
      "metadata": {
        "id": "view-in-github",
        "colab_type": "text"
      },
      "source": [
        "<a href=\"https://colab.research.google.com/github/bhadaur1/Geron/blob/master/Geron_Chap_10_2.ipynb\" target=\"_parent\"><img src=\"https://colab.research.google.com/assets/colab-badge.svg\" alt=\"Open In Colab\"/></a>"
      ]
    },
    {
      "cell_type": "markdown",
      "metadata": {
        "id": "FhR40gEtA1xe",
        "colab_type": "text"
      },
      "source": [
        "This notebook deals with wide and deep formulation of Keras model using California Housing dataset"
      ]
    },
    {
      "cell_type": "markdown",
      "metadata": {
        "id": "a31PdqOZA9zk",
        "colab_type": "text"
      },
      "source": [
        "### Just the deep model for now"
      ]
    },
    {
      "cell_type": "code",
      "metadata": {
        "id": "IPuek_6bAp2T",
        "colab_type": "code",
        "colab": {
          "base_uri": "https://localhost:8080/",
          "height": 34
        },
        "outputId": "6152db31-b3a3-4020-a54f-9046199cdb2f"
      },
      "source": [
        "from sklearn.datasets import fetch_california_housing\n",
        "from sklearn.model_selection import train_test_split\n",
        "from sklearn.preprocessing import StandardScaler\n",
        "\n",
        "housing = fetch_california_housing()\n",
        "\n",
        "X_train_full, X_test, y_train_full, y_test = train_test_split(\n",
        "    housing.data, housing.target)\n",
        "X_train, X_valid, y_train, y_valid = train_test_split(\n",
        "    X_train_full, y_train_full)\n",
        "\n",
        "scaler = StandardScaler()\n",
        "X_train = scaler.fit_transform(X_train)\n",
        "X_valid = scaler.transform(X_valid)\n",
        "X_test = scaler.transform(X_test)\n"
      ],
      "execution_count": 1,
      "outputs": [
        {
          "output_type": "stream",
          "text": [
            "Downloading Cal. housing from https://ndownloader.figshare.com/files/5976036 to /root/scikit_learn_data\n"
          ],
          "name": "stderr"
        }
      ]
    },
    {
      "cell_type": "code",
      "metadata": {
        "id": "H-6JmFh0BFEj",
        "colab_type": "code",
        "colab": {
          "base_uri": "https://localhost:8080/",
          "height": 706
        },
        "outputId": "2154ed34-fad4-45f9-8d80-c4636295f65c"
      },
      "source": [
        "from tensorflow import keras\n",
        "model = keras.models.Sequential([\n",
        "    keras.layers.Dense(30, activation=\"relu\", input_shape=X_train.shape[1:]),\n",
        "    keras.layers.Dense(1)\n",
        "])\n",
        "model.compile(loss=\"mean_squared_error\", optimizer=\"sgd\")\n",
        "history = model.fit(X_train, y_train, epochs=20,\n",
        "                    validation_data=(X_valid, y_valid))\n",
        "mse_test = model.evaluate(X_test, y_test)\n",
        "X_new = X_test[:3] # pretend these are new instances\n",
        "y_pred = model.predict(X_new)\n"
      ],
      "execution_count": 3,
      "outputs": [
        {
          "output_type": "stream",
          "text": [
            "Epoch 1/20\n",
            "363/363 [==============================] - 1s 2ms/step - loss: 0.7332 - val_loss: 0.5228\n",
            "Epoch 2/20\n",
            "363/363 [==============================] - 0s 1ms/step - loss: 0.5173 - val_loss: 0.4719\n",
            "Epoch 3/20\n",
            "363/363 [==============================] - 0s 1ms/step - loss: 0.4819 - val_loss: 0.4463\n",
            "Epoch 4/20\n",
            "363/363 [==============================] - 0s 1ms/step - loss: 0.4727 - val_loss: 0.4345\n",
            "Epoch 5/20\n",
            "363/363 [==============================] - 0s 1ms/step - loss: 0.4486 - val_loss: 0.4278\n",
            "Epoch 6/20\n",
            "363/363 [==============================] - 0s 1ms/step - loss: 0.4484 - val_loss: 0.4217\n",
            "Epoch 7/20\n",
            "363/363 [==============================] - 0s 1ms/step - loss: 0.4304 - val_loss: 0.4156\n",
            "Epoch 8/20\n",
            "363/363 [==============================] - 0s 1ms/step - loss: 0.4275 - val_loss: 0.4160\n",
            "Epoch 9/20\n",
            "363/363 [==============================] - 0s 1ms/step - loss: 0.4209 - val_loss: 0.4089\n",
            "Epoch 10/20\n",
            "363/363 [==============================] - 0s 1ms/step - loss: 0.4170 - val_loss: 0.4041\n",
            "Epoch 11/20\n",
            "363/363 [==============================] - 0s 1ms/step - loss: 0.4114 - val_loss: 0.4022\n",
            "Epoch 12/20\n",
            "363/363 [==============================] - 0s 1ms/step - loss: 0.4095 - val_loss: 0.4028\n",
            "Epoch 13/20\n",
            "363/363 [==============================] - 0s 1ms/step - loss: 0.4065 - val_loss: 0.3980\n",
            "Epoch 14/20\n",
            "363/363 [==============================] - 0s 1ms/step - loss: 0.4026 - val_loss: 0.3993\n",
            "Epoch 15/20\n",
            "363/363 [==============================] - 0s 1ms/step - loss: 0.3992 - val_loss: 0.3945\n",
            "Epoch 16/20\n",
            "363/363 [==============================] - 0s 1ms/step - loss: 0.3960 - val_loss: 0.3914\n",
            "Epoch 17/20\n",
            "363/363 [==============================] - 0s 1ms/step - loss: 0.3930 - val_loss: 0.3967\n",
            "Epoch 18/20\n",
            "363/363 [==============================] - 0s 1ms/step - loss: 0.3903 - val_loss: 0.3831\n",
            "Epoch 19/20\n",
            "363/363 [==============================] - 0s 1ms/step - loss: 0.3886 - val_loss: 0.3828\n",
            "Epoch 20/20\n",
            "363/363 [==============================] - 0s 1ms/step - loss: 0.3901 - val_loss: 0.3809\n",
            "162/162 [==============================] - 0s 876us/step - loss: 0.3798\n"
          ],
          "name": "stdout"
        }
      ]
    },
    {
      "cell_type": "code",
      "metadata": {
        "id": "JFMzTBIrBKJt",
        "colab_type": "code",
        "colab": {
          "base_uri": "https://localhost:8080/",
          "height": 67
        },
        "outputId": "97e81301-1ff6-470a-e85f-7dda488938d6"
      },
      "source": [
        "mse_test, y_pred"
      ],
      "execution_count": 5,
      "outputs": [
        {
          "output_type": "execute_result",
          "data": {
            "text/plain": [
              "(0.3797622323036194, array([[2.9087143],\n",
              "        [2.9145808],\n",
              "        [1.6272081]], dtype=float32))"
            ]
          },
          "metadata": {
            "tags": []
          },
          "execution_count": 5
        }
      ]
    },
    {
      "cell_type": "markdown",
      "metadata": {
        "id": "7PL-J5kLBcTn",
        "colab_type": "text"
      },
      "source": [
        "Creating wide and deep model using Keras functional API"
      ]
    },
    {
      "cell_type": "code",
      "metadata": {
        "id": "LbEpP9RmBoIS",
        "colab_type": "code",
        "colab": {
          "base_uri": "https://localhost:8080/",
          "height": 151
        },
        "outputId": "30af8ebb-52d0-40a5-f484-38a10ecaff74"
      },
      "source": [
        "housing.feature_names"
      ],
      "execution_count": 8,
      "outputs": [
        {
          "output_type": "execute_result",
          "data": {
            "text/plain": [
              "['MedInc',\n",
              " 'HouseAge',\n",
              " 'AveRooms',\n",
              " 'AveBedrms',\n",
              " 'Population',\n",
              " 'AveOccup',\n",
              " 'Latitude',\n",
              " 'Longitude']"
            ]
          },
          "metadata": {
            "tags": []
          },
          "execution_count": 8
        }
      ]
    },
    {
      "cell_type": "code",
      "metadata": {
        "id": "ylIuWaV8BVLj",
        "colab_type": "code",
        "colab": {}
      },
      "source": [
        "def get_wide_and_deep_model():\n",
        "  keras.backend.clear_session()\n",
        "  input_ = keras.layers.Input(shape=X_train.shape[1:])\n",
        "  hidden1 = keras.layers.Dense(30, activation=\"relu\")(input_)\n",
        "  hidden2 = keras.layers.Dense(30, activation=\"relu\")(hidden1)\n",
        "  concat = keras.layers.Concatenate()([input_, hidden2])\n",
        "  output = keras.layers.Dense(1)(concat)\n",
        "  model = keras.Model(inputs=[input_], outputs = [output])\n",
        "  return model\n",
        "\n",
        "model =get_wide_and_deep_model()"
      ],
      "execution_count": 13,
      "outputs": []
    },
    {
      "cell_type": "code",
      "metadata": {
        "id": "ILAuWlY4EDGV",
        "colab_type": "code",
        "colab": {
          "base_uri": "https://localhost:8080/",
          "height": 336
        },
        "outputId": "003398ff-e154-4124-ca83-e912bdf6ef09"
      },
      "source": [
        "model.summary()"
      ],
      "execution_count": 14,
      "outputs": [
        {
          "output_type": "stream",
          "text": [
            "Model: \"functional_1\"\n",
            "__________________________________________________________________________________________________\n",
            "Layer (type)                    Output Shape         Param #     Connected to                     \n",
            "==================================================================================================\n",
            "input_1 (InputLayer)            [(None, 8)]          0                                            \n",
            "__________________________________________________________________________________________________\n",
            "dense (Dense)                   (None, 30)           270         input_1[0][0]                    \n",
            "__________________________________________________________________________________________________\n",
            "dense_1 (Dense)                 (None, 30)           930         dense[0][0]                      \n",
            "__________________________________________________________________________________________________\n",
            "concatenate (Concatenate)       (None, 38)           0           input_1[0][0]                    \n",
            "                                                                 dense_1[0][0]                    \n",
            "__________________________________________________________________________________________________\n",
            "dense_2 (Dense)                 (None, 1)            39          concatenate[0][0]                \n",
            "==================================================================================================\n",
            "Total params: 1,239\n",
            "Trainable params: 1,239\n",
            "Non-trainable params: 0\n",
            "__________________________________________________________________________________________________\n"
          ],
          "name": "stdout"
        }
      ]
    },
    {
      "cell_type": "code",
      "metadata": {
        "id": "cYWfygGcEXSg",
        "colab_type": "code",
        "colab": {
          "base_uri": "https://localhost:8080/",
          "height": 706
        },
        "outputId": "7d31f4e8-be3c-4bbe-d9ab-57e4403862b4"
      },
      "source": [
        "model.compile(loss=\"mean_squared_error\", optimizer=\"sgd\")\n",
        "history = model.fit(X_train, y_train, epochs=20,\n",
        "                    validation_data=(X_valid, y_valid))\n",
        "mse_test = model.evaluate(X_test, y_test)\n",
        "X_new = X_test[:3] # pretend these are new instances\n",
        "y_pred = model.predict(X_new)\n"
      ],
      "execution_count": 20,
      "outputs": [
        {
          "output_type": "stream",
          "text": [
            "Epoch 1/20\n",
            "363/363 [==============================] - 1s 2ms/step - loss: 1.3000 - val_loss: 0.6532\n",
            "Epoch 2/20\n",
            "363/363 [==============================] - 1s 1ms/step - loss: 0.6503 - val_loss: 0.4813\n",
            "Epoch 3/20\n",
            "363/363 [==============================] - 0s 1ms/step - loss: 0.8770 - val_loss: 0.4546\n",
            "Epoch 4/20\n",
            "363/363 [==============================] - 0s 1ms/step - loss: 0.4485 - val_loss: 0.4348\n",
            "Epoch 5/20\n",
            "363/363 [==============================] - 1s 1ms/step - loss: 0.4345 - val_loss: 0.4292\n",
            "Epoch 6/20\n",
            "363/363 [==============================] - 0s 1ms/step - loss: 0.4528 - val_loss: 0.4173\n",
            "Epoch 7/20\n",
            "363/363 [==============================] - 0s 1ms/step - loss: 0.4149 - val_loss: 0.4041\n",
            "Epoch 8/20\n",
            "363/363 [==============================] - 0s 1ms/step - loss: 0.4090 - val_loss: 0.4001\n",
            "Epoch 9/20\n",
            "363/363 [==============================] - 0s 1ms/step - loss: 0.4338 - val_loss: 0.3919\n",
            "Epoch 10/20\n",
            "363/363 [==============================] - 0s 1ms/step - loss: 0.3922 - val_loss: 0.3864\n",
            "Epoch 11/20\n",
            "363/363 [==============================] - 0s 1ms/step - loss: 0.3952 - val_loss: 0.3810\n",
            "Epoch 12/20\n",
            "363/363 [==============================] - 0s 1ms/step - loss: 0.3939 - val_loss: 0.3881\n",
            "Epoch 13/20\n",
            "363/363 [==============================] - 0s 1ms/step - loss: 0.3760 - val_loss: 0.3836\n",
            "Epoch 14/20\n",
            "363/363 [==============================] - 1s 1ms/step - loss: 0.3864 - val_loss: 0.3666\n",
            "Epoch 15/20\n",
            "363/363 [==============================] - 0s 1ms/step - loss: 0.4012 - val_loss: 0.3736\n",
            "Epoch 16/20\n",
            "363/363 [==============================] - 0s 1ms/step - loss: 0.3660 - val_loss: 0.3556\n",
            "Epoch 17/20\n",
            "363/363 [==============================] - 0s 1ms/step - loss: 0.3684 - val_loss: 0.3687\n",
            "Epoch 18/20\n",
            "363/363 [==============================] - 0s 1ms/step - loss: 0.3768 - val_loss: 0.3523\n",
            "Epoch 19/20\n",
            "363/363 [==============================] - 0s 1ms/step - loss: 0.3670 - val_loss: 0.3499\n",
            "Epoch 20/20\n",
            "363/363 [==============================] - 1s 1ms/step - loss: 0.3658 - val_loss: 0.3465\n",
            "162/162 [==============================] - 0s 869us/step - loss: 0.3478\n"
          ],
          "name": "stdout"
        }
      ]
    },
    {
      "cell_type": "code",
      "metadata": {
        "id": "c3R7RlVREp_m",
        "colab_type": "code",
        "colab": {
          "base_uri": "https://localhost:8080/",
          "height": 67
        },
        "outputId": "0ccea92a-4bb6-4196-bc0f-529d1d5195a8"
      },
      "source": [
        "mse_test, y_pred"
      ],
      "execution_count": 21,
      "outputs": [
        {
          "output_type": "execute_result",
          "data": {
            "text/plain": [
              "(0.3478039801120758, array([[2.9203858],\n",
              "        [2.7344778],\n",
              "        [1.4872606]], dtype=float32))"
            ]
          },
          "metadata": {
            "tags": []
          },
          "execution_count": 21
        }
      ]
    },
    {
      "cell_type": "code",
      "metadata": {
        "id": "yX7wFamaGjPj",
        "colab_type": "code",
        "colab": {
          "base_uri": "https://localhost:8080/",
          "height": 706
        },
        "outputId": "2ce493c1-b898-459a-b699-d825ea096c9a"
      },
      "source": [
        "def multi_input_model_training():\n",
        "\n",
        "  keras.backend.clear_session()\n",
        "  input_A = keras.layers.Input(shape=[5], name=\"wide_input\")\n",
        "  input_B = keras.layers.Input(shape=[6], name=\"deep_input\")\n",
        "  hidden1 = keras.layers.Dense(30, activation=\"relu\")(input_B)\n",
        "  hidden2 = keras.layers.Dense(30, activation=\"relu\")(hidden1)\n",
        "  concat = keras.layers.concatenate([input_A, hidden2])\n",
        "  output = keras.layers.Dense(1, name=\"output\")(concat)\n",
        "  model = keras.Model(inputs=[input_A, input_B], outputs=[output])\n",
        "\n",
        "  model.compile(loss=\"mse\", optimizer=keras.optimizers.SGD(lr=1e-3))\n",
        "\n",
        "\n",
        "\n",
        "  X_train_A, X_train_B = X_train[:, :5], X_train[:, 2:]\n",
        "  X_valid_A, X_valid_B = X_valid[:, :5], X_valid[:, 2:]\n",
        "  X_test_A, X_test_B = X_test[:, :5], X_test[:, 2:]\n",
        "  X_new_A, X_new_B = X_test_A[:3], X_test_B[:3]\n",
        "\n",
        "  history = model.fit((X_train_A, X_train_B), y_train, epochs=20,\n",
        "                      validation_data=((X_valid_A, X_valid_B), y_valid))\n",
        "  mse_test = model.evaluate((X_test_A, X_test_B), y_test)\n",
        "  y_pred = model.predict((X_new_A, X_new_B))\n",
        "\n",
        "  return model, history, mse_test, y_pred\n",
        "\n",
        "model, history, mse_test, y_pred = multi_input_model_training()"
      ],
      "execution_count": 24,
      "outputs": [
        {
          "output_type": "stream",
          "text": [
            "Epoch 1/20\n",
            "363/363 [==============================] - 1s 2ms/step - loss: 1.9751 - val_loss: 0.8400\n",
            "Epoch 2/20\n",
            "363/363 [==============================] - 1s 1ms/step - loss: 0.7504 - val_loss: 0.6734\n",
            "Epoch 3/20\n",
            "363/363 [==============================] - 1s 1ms/step - loss: 0.6534 - val_loss: 0.6146\n",
            "Epoch 4/20\n",
            "363/363 [==============================] - 1s 1ms/step - loss: 0.6099 - val_loss: 0.5813\n",
            "Epoch 5/20\n",
            "363/363 [==============================] - 1s 1ms/step - loss: 0.5811 - val_loss: 0.5560\n",
            "Epoch 6/20\n",
            "363/363 [==============================] - 0s 1ms/step - loss: 0.5588 - val_loss: 0.5375\n",
            "Epoch 7/20\n",
            "363/363 [==============================] - 1s 1ms/step - loss: 0.5416 - val_loss: 0.5219\n",
            "Epoch 8/20\n",
            "363/363 [==============================] - 1s 1ms/step - loss: 0.5283 - val_loss: 0.5104\n",
            "Epoch 9/20\n",
            "363/363 [==============================] - 1s 1ms/step - loss: 0.5178 - val_loss: 0.5022\n",
            "Epoch 10/20\n",
            "363/363 [==============================] - 0s 1ms/step - loss: 0.5095 - val_loss: 0.4946\n",
            "Epoch 11/20\n",
            "363/363 [==============================] - 1s 1ms/step - loss: 0.5030 - val_loss: 0.4894\n",
            "Epoch 12/20\n",
            "363/363 [==============================] - 1s 1ms/step - loss: 0.4973 - val_loss: 0.4841\n",
            "Epoch 13/20\n",
            "363/363 [==============================] - 0s 1ms/step - loss: 0.4926 - val_loss: 0.4799\n",
            "Epoch 14/20\n",
            "363/363 [==============================] - 0s 1ms/step - loss: 0.4886 - val_loss: 0.4762\n",
            "Epoch 15/20\n",
            "363/363 [==============================] - 0s 1ms/step - loss: 0.4849 - val_loss: 0.4728\n",
            "Epoch 16/20\n",
            "363/363 [==============================] - 1s 1ms/step - loss: 0.4817 - val_loss: 0.4697\n",
            "Epoch 17/20\n",
            "363/363 [==============================] - 0s 1ms/step - loss: 0.4784 - val_loss: 0.4666\n",
            "Epoch 18/20\n",
            "363/363 [==============================] - 0s 1ms/step - loss: 0.4758 - val_loss: 0.4640\n",
            "Epoch 19/20\n",
            "363/363 [==============================] - 1s 1ms/step - loss: 0.4728 - val_loss: 0.4629\n",
            "Epoch 20/20\n",
            "363/363 [==============================] - 1s 1ms/step - loss: 0.4703 - val_loss: 0.4600\n",
            "162/162 [==============================] - 0s 853us/step - loss: 0.4761\n"
          ],
          "name": "stdout"
        }
      ]
    },
    {
      "cell_type": "code",
      "metadata": {
        "id": "G1VkyGcMP7m_",
        "colab_type": "code",
        "colab": {
          "base_uri": "https://localhost:8080/",
          "height": 67
        },
        "outputId": "4154493e-0b0c-453e-e03b-ebe346ab70fe"
      },
      "source": [
        "mse_test, y_pred"
      ],
      "execution_count": 25,
      "outputs": [
        {
          "output_type": "execute_result",
          "data": {
            "text/plain": [
              "(0.4760817289352417, array([[2.7399888],\n",
              "        [3.2710438],\n",
              "        [2.0303683]], dtype=float32))"
            ]
          },
          "metadata": {
            "tags": []
          },
          "execution_count": 25
        }
      ]
    },
    {
      "cell_type": "code",
      "metadata": {
        "id": "ojwuZa8lQHzL",
        "colab_type": "code",
        "colab": {}
      },
      "source": [
        ""
      ],
      "execution_count": null,
      "outputs": []
    }
  ]
}